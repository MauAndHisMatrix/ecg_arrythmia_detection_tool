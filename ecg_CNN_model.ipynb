{
  "nbformat": 4,
  "nbformat_minor": 0,
  "metadata": {
    "colab": {
      "provenance": [],
      "gpuType": "T4",
      "authorship_tag": "ABX9TyN0dqgYRnSkoyCzkgW0bn92",
      "include_colab_link": true
    },
    "kernelspec": {
      "name": "python3",
      "display_name": "Python 3"
    },
    "language_info": {
      "name": "python"
    },
    "accelerator": "GPU"
  },
  "cells": [
    {
      "cell_type": "markdown",
      "metadata": {
        "id": "view-in-github",
        "colab_type": "text"
      },
      "source": [
        "<a href=\"https://colab.research.google.com/github/MauAndHisMatrix/ecg_arrythmia_detection_tool/blob/main/ecg_CNN_model.ipynb\" target=\"_parent\"><img src=\"https://colab.research.google.com/assets/colab-badge.svg\" alt=\"Open In Colab\"/></a>"
      ]
    },
    {
      "cell_type": "code",
      "execution_count": 4,
      "metadata": {
        "colab": {
          "base_uri": "https://localhost:8080/"
        },
        "id": "gfTpDFuJhqI-",
        "outputId": "ad7bfe14-533d-4152-9ec0-f1ad71d2d726"
      },
      "outputs": [
        {
          "output_type": "stream",
          "name": "stdout",
          "text": [
            "Colab only includes TensorFlow 2.x; %tensorflow_version has no effect.\n"
          ]
        }
      ],
      "source": [
        "%tensorflow_version 2.x  # this line is not required unless you are in a notebook\n",
        "from keras.preprocessing import sequence\n",
        "import keras\n",
        "import tensorflow as tf\n",
        "from tensorflow.keras import datasets, layers, models\n",
        "import os\n",
        "import numpy as np"
      ]
    },
    {
      "cell_type": "code",
      "source": [
        "train_data = np.ones((4000, 5000, 12)) #need to edit once data is preprocessesed\n",
        "train_labels = np.ones((4000, 63))\n",
        "test_data = np.ones((500, 5000, 12))\n",
        "test_labels = np.ones((500, 63))"
      ],
      "metadata": {
        "id": "d3b25oU2h2j8"
      },
      "execution_count": 2,
      "outputs": []
    },
    {
      "cell_type": "code",
      "source": [
        "largest_value = max(np.amax(train_data), np.amax(test_data))\n",
        "train_data /= largest_value\n",
        "test_data /= largest_value"
      ],
      "metadata": {
        "id": "9Rx84RGRh9Pc"
      },
      "execution_count": 3,
      "outputs": []
    },
    {
      "cell_type": "code",
      "source": [
        "model = models.Sequential()\n",
        "model.add(layers.Conv2D(32, (20, 3), activation='relu', input_shape=(5000, 12, 1)))\n",
        "model.add(layers.MaxPooling2D((5, 1))) # y=1 as we can't lose vertical data as they're all important\n",
        "model.add(layers.Conv2D(32, (20, 3), activation='relu'))\n",
        "model.add(layers.MaxPooling2D((5, 1)))\n",
        "model.add(layers.Conv2D(64, (20, 3), activation='relu'))\n",
        "model.add(layers.MaxPooling2D((5, 1)))\n",
        "model.add(layers.Conv2D(64, (5, 3), activation='relu'))\n",
        "\n",
        "model.add(layers.Flatten())\n",
        "model.add(layers.Dense(64, activation='relu'))\n",
        "model.add(layers.Dense(63, activation='sigmoid'))"
      ],
      "metadata": {
        "id": "tveoPRQniEL6"
      },
      "execution_count": 7,
      "outputs": []
    },
    {
      "cell_type": "code",
      "source": [
        "model.compile(loss=\"binary_crossentropy\",optimizer=\"rmsprop\",metrics=['acc'])\n",
        "\n",
        "history = model.fit(train_data, train_labels, epochs=1, validation_split=0.2)"
      ],
      "metadata": {
        "colab": {
          "base_uri": "https://localhost:8080/"
        },
        "id": "yVz12-E1lPKz",
        "outputId": "8d14aa07-953e-42b7-b040-cefd8d307979"
      },
      "execution_count": 8,
      "outputs": [
        {
          "output_type": "stream",
          "name": "stdout",
          "text": [
            "100/100 [==============================] - 20s 66ms/step - loss: 0.0642 - acc: 0.0000e+00 - val_loss: 2.7795e-06 - val_acc: 0.0000e+00\n"
          ]
        }
      ]
    },
    {
      "cell_type": "code",
      "source": [
        "results = model.evaluate(test_data, test_labels)\n",
        "print(results)"
      ],
      "metadata": {
        "colab": {
          "base_uri": "https://localhost:8080/"
        },
        "id": "SyivVx6YlbXM",
        "outputId": "ba99dfc3-55da-44ff-ee85-951e652172bb"
      },
      "execution_count": 9,
      "outputs": [
        {
          "output_type": "stream",
          "name": "stdout",
          "text": [
            "16/16 [==============================] - 1s 53ms/step - loss: 2.7795e-06 - acc: 0.0000e+00\n",
            "[2.779481064862921e-06, 0.0]\n"
          ]
        }
      ]
    },
    {
      "cell_type": "code",
      "source": [
        "model.save(\"ecg_model_CNN.h5\")"
      ],
      "metadata": {
        "id": "GKy1sIJmlcZQ"
      },
      "execution_count": null,
      "outputs": []
    }
  ]
}