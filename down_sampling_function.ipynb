{
  "nbformat": 4,
  "nbformat_minor": 0,
  "metadata": {
    "colab": {
      "provenance": [],
      "authorship_tag": "ABX9TyPqFWgc4vGqTNszDVh56mlr",
      "include_colab_link": true
    },
    "kernelspec": {
      "name": "python3",
      "display_name": "Python 3"
    },
    "language_info": {
      "name": "python"
    }
  },
  "cells": [
    {
      "cell_type": "markdown",
      "metadata": {
        "id": "view-in-github",
        "colab_type": "text"
      },
      "source": [
        "<a href=\"https://colab.research.google.com/github/MauAndHisMatrix/ecg_arrythmia_detection_tool/blob/main/down_sampling_function.ipynb\" target=\"_parent\"><img src=\"https://colab.research.google.com/assets/colab-badge.svg\" alt=\"Open In Colab\"/></a>"
      ]
    },
    {
      "cell_type": "code",
      "execution_count": 6,
      "metadata": {
        "id": "GAeO_2R4be0M"
      },
      "outputs": [],
      "source": [
        "import numpy as np\n",
        "\n",
        "def downsample_array(arr, n):\n",
        "    if n <= 0 or 5000 % n != 0:\n",
        "        raise ValueError(\"n should be a positive integer that divides 5000\")\n",
        "\n",
        "    original_shape = arr.shape\n",
        "    num_subarrays = original_shape[1] // 5000\n",
        "\n",
        "    if num_subarrays * n > 5000:\n",
        "        raise ValueError(\"n is too large; it would result in subarrays smaller than 1 element\")\n",
        "\n",
        "    new_shape = (original_shape[0], num_subarrays * (original_shape[1] // n), original_shape[2])\n",
        "\n",
        "    downsampled_array = np.empty(new_shape)\n",
        "\n",
        "    for i in range(num_subarrays):\n",
        "        subarray = arr[:, i * 5000:(i + 1) * 5000, :]\n",
        "        downsampled_array[:, i * (original_shape[1] // n):(i + 1) * (original_shape[1] // n), :] = subarray[:, ::n, :]\n",
        "\n",
        "    return downsampled_array"
      ]
    },
    {
      "cell_type": "code",
      "source": [
        "# Example usage:\n",
        "# Create a sample numpy array of shape (400, 5000, 12)\n",
        "original_array = np.random.rand(400, 5000, 12)\n",
        "\n",
        "# Downsample it with n = 2, resulting in shape (400, 2500, 12)\n",
        "n = 2\n",
        "downsampled_result = downsample_array(original_array, n)\n",
        "\n",
        "print(downsampled_result.shape)"
      ],
      "metadata": {
        "colab": {
          "base_uri": "https://localhost:8080/"
        },
        "id": "FJmHnqV3cWA2",
        "outputId": "c18309fe-bfa2-4221-9e7a-2ba511e6d23d"
      },
      "execution_count": 7,
      "outputs": [
        {
          "output_type": "stream",
          "name": "stdout",
          "text": [
            "(400, 2500, 12)\n"
          ]
        }
      ]
    }
  ]
}